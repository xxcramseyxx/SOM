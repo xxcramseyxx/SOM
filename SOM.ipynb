{
  "nbformat": 4,
  "nbformat_minor": 0,
  "metadata": {
    "colab": {
      "name": "SOM.ipynb",
      "provenance": [],
      "authorship_tag": "ABX9TyPOeBGSbo6n49+eb7fxlglQ",
      "include_colab_link": true
    },
    "kernelspec": {
      "name": "python3",
      "display_name": "Python 3"
    }
  },
  "cells": [
    {
      "cell_type": "markdown",
      "metadata": {
        "id": "view-in-github",
        "colab_type": "text"
      },
      "source": [
        "<a href=\"https://colab.research.google.com/github/xxcramseyxx/SOM-Fraud-Detector/blob/main/SOM.ipynb\" target=\"_parent\"><img src=\"https://colab.research.google.com/assets/colab-badge.svg\" alt=\"Open In Colab\"/></a>"
      ]
    },
    {
      "cell_type": "markdown",
      "metadata": {
        "id": "A0ip0vKzXKas"
      },
      "source": [
        "# Fraud Detector\n",
        "\n"
      ]
    },
    {
      "cell_type": "code",
      "metadata": {
        "id": "rV7egIrj8XTy"
      },
      "source": [
        "import pandas as pd\n",
        "import numpy as np\n",
        "import matplotlib as plt"
      ],
      "execution_count": null,
      "outputs": []
    },
    {
      "cell_type": "code",
      "metadata": {
        "colab": {
          "base_uri": "https://localhost:8080/"
        },
        "id": "RB8GC98SXCyW",
        "outputId": "77c6ba38-c2cc-4e74-e633-fb09b7f07f8a"
      },
      "source": [
        "df = pd.read_csv('/content/Credit_Card_Applications.csv')\n",
        "X = df.iloc[:, :-1].values\n",
        "y = df.iloc[:, -1].values\n",
        "print(X)"
      ],
      "execution_count": null,
      "outputs": [
        {
          "output_type": "stream",
          "text": [
            "[[1.5776156e+07 1.0000000e+00 2.2080000e+01 ... 2.0000000e+00\n",
            "  1.0000000e+02 1.2130000e+03]\n",
            " [1.5739548e+07 0.0000000e+00 2.2670000e+01 ... 2.0000000e+00\n",
            "  1.6000000e+02 1.0000000e+00]\n",
            " [1.5662854e+07 0.0000000e+00 2.9580000e+01 ... 2.0000000e+00\n",
            "  2.8000000e+02 1.0000000e+00]\n",
            " ...\n",
            " [1.5675450e+07 0.0000000e+00 1.8830000e+01 ... 2.0000000e+00\n",
            "  1.0000000e+02 1.0000000e+00]\n",
            " [1.5776494e+07 0.0000000e+00 2.7420000e+01 ... 2.0000000e+00\n",
            "  1.2000000e+02 1.2000000e+01]\n",
            " [1.5592412e+07 1.0000000e+00 4.1000000e+01 ... 1.0000000e+00\n",
            "  5.6000000e+02 1.0000000e+00]]\n"
          ],
          "name": "stdout"
        }
      ]
    },
    {
      "cell_type": "code",
      "metadata": {
        "colab": {
          "base_uri": "https://localhost:8080/"
        },
        "id": "WAFv21a5fI79",
        "outputId": "1eff990b-5dd0-4479-b109-a42e15778f2d"
      },
      "source": [
        "from sklearn.preprocessing import MinMaxScaler\n",
        "sc = MinMaxScaler(feature_range=(0,1))\n",
        "X = sc.fit_transform(X)\n",
        "print(X)\n"
      ],
      "execution_count": null,
      "outputs": [
        {
          "output_type": "stream",
          "text": [
            "[[8.42681467e-01 1.00000000e+00 1.25263158e-01 ... 5.00000000e-01\n",
            "  5.00000000e-02 1.21200000e-02]\n",
            " [6.96090562e-01 0.00000000e+00 1.34135338e-01 ... 5.00000000e-01\n",
            "  8.00000000e-02 0.00000000e+00]\n",
            " [3.88981656e-01 0.00000000e+00 2.38045113e-01 ... 5.00000000e-01\n",
            "  1.40000000e-01 0.00000000e+00]\n",
            " ...\n",
            " [4.39420332e-01 0.00000000e+00 7.63909774e-02 ... 5.00000000e-01\n",
            "  5.00000000e-02 0.00000000e+00]\n",
            " [8.44034934e-01 0.00000000e+00 2.05563910e-01 ... 5.00000000e-01\n",
            "  6.00000000e-02 1.10000000e-04]\n",
            " [1.06907888e-01 1.00000000e+00 4.09774436e-01 ... 0.00000000e+00\n",
            "  2.80000000e-01 0.00000000e+00]]\n"
          ],
          "name": "stdout"
        }
      ]
    },
    {
      "cell_type": "markdown",
      "metadata": {
        "id": "legR15bniM7V"
      },
      "source": [
        "# Training the SOM"
      ]
    },
    {
      "cell_type": "code",
      "metadata": {
        "id": "heNB9nGaiTL8"
      },
      "source": [
        "from minisom import MiniSom\n",
        "som = MiniSom(x=10,y=10,input_len=15,sigma=1.0,learning_rate=0.5) #input_len=# of features sigma=radius learning_rate=how fast the weights are updated\n",
        "som.random_weights_init(X)\n",
        "som.train_random(data=X,num_iteration=100)"
      ],
      "execution_count": null,
      "outputs": []
    },
    {
      "cell_type": "markdown",
      "metadata": {
        "id": "Aa-6jpMHs8b_"
      },
      "source": [
        "# Result Visualization"
      ]
    },
    {
      "cell_type": "code",
      "metadata": {
        "colab": {
          "base_uri": "https://localhost:8080/",
          "height": 269
        },
        "id": "QocSXJs4s2ag",
        "outputId": "5ae83952-c2a0-44a6-eb93-97cea5b6314a"
      },
      "source": [
        "from pylab import bone, pcolor, colorbar, plot, show\n",
        "bone()\n",
        "pcolor(som.distance_map().T) #som.distance_map = MID .T=transpose\n",
        "colorbar()\n",
        "markers = ['o','s']\n",
        "colors = ['r','g']\n",
        "\n",
        "for i,x in enumerate(X): #i=indexes of customers x=vectors of customers\n",
        "  w = som.winner(x)\n",
        "  plot(w[0]+0.5,\n",
        "       w[1]+0.5,\n",
        "       markers[y[i]],\n",
        "       markeredgecolor=colors[y[i]],\n",
        "       markerfacecolor=('None'),\n",
        "       markersize=(10),\n",
        "       markeredgewidth=(2))\n",
        "show()\n",
        "\n"
      ],
      "execution_count": null,
      "outputs": [
        {
          "output_type": "display_data",
          "data": {
            "image/png": "[encoded data removed]",
            "text/plain": [
              "<Figure size 432x288 with 2 Axes>"
            ]
          },
          "metadata": {
            "tags": [],
            "needs_background": "light"
          }
        }
      ]
    },
    {
      "cell_type": "markdown",
      "metadata": {
        "id": "ysz4vLfx_o3H"
      },
      "source": [
        "# Finding the Frauds"
      ]
    },
    {
      "cell_type": "code",
      "metadata": {
        "id": "uJDzBk-N_no0"
      },
      "source": [
        "mappings = som.win_map(X)\n",
        "frauds =np.concatenate((mappings[(1,4)], mappings[(1,5)]), axis=0)\n",
        "frauds = sc.inverse_transform(frauds)\n"
      ],
      "execution_count": null,
      "outputs": []
    },
    {
      "cell_type": "code",
      "metadata": {
        "colab": {
          "base_uri": "https://localhost:8080/"
        },
        "id": "OpV2S8ojEyil",
        "outputId": "c5c16cee-02aa-49cc-ec20-ce3f87a726c4"
      },
      "source": [
        "print('Customer Fraud IDs')\n",
        "for i in frauds[:, 0]:\n",
        "  print(int(i))\n"
      ],
      "execution_count": null,
      "outputs": [
        {
          "output_type": "stream",
          "text": [
            "Customer Fraud IDs\n",
            "15734578\n",
            "15802869\n",
            "15645820\n",
            "15800554\n",
            "15651868\n",
            "15716082\n",
            "15593959\n",
            "15592999\n",
            "15752344\n",
            "15611409\n",
            "15792107\n",
            "15636454\n",
            "15608916\n",
            "15615296\n"
          ],
          "name": "stdout"
        }
      ]
    }
  ]
}